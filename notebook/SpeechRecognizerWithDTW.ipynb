{
 "cells": [
  {
   "cell_type": "markdown",
   "metadata": {},
   "source": [
    "## Speech Recognition with Dynamic Time Warping"
   ]
  },
  {
   "cell_type": "code",
   "execution_count": 1,
   "metadata": {},
   "outputs": [],
   "source": [
    "import numpy as np\n",
    "import time\n",
    "from os import listdir, getcwd\n",
    "from os.path import isfile, join"
   ]
  },
  {
   "cell_type": "markdown",
   "metadata": {},
   "source": [
    "Define global variables like path of train and test data."
   ]
  },
  {
   "cell_type": "code",
   "execution_count": 2,
   "metadata": {},
   "outputs": [],
   "source": [
    "DATA_PATH = join(getcwd(), 'ProjectData')\n",
    "TRAIN_DATA_PATH = join(DATA_PATH, 'TrainData')\n",
    "TEST_DATA_PATH = join(DATA_PATH, 'EvalData')"
   ]
  },
  {
   "cell_type": "code",
   "execution_count": 3,
   "metadata": {},
   "outputs": [],
   "source": [
    "def get_commands(command_path):\n",
    "    '''Gets possible commands list'''\n",
    "    return open(command_path).readlines()"
   ]
  },
  {
   "cell_type": "markdown",
   "metadata": {},
   "source": [
    "Define functions for getting training and test datasets."
   ]
  },
  {
   "cell_type": "code",
   "execution_count": 4,
   "metadata": {},
   "outputs": [],
   "source": [
    "def get_train_set(path):\n",
    "    '''Gets train instances with ids, path and command label'''\n",
    "    data_instances = open(join(path, 'instances.txt'), 'w', encoding='Cp1254')\n",
    "    commands_dirs_by_readers = [join(path,f) for f in listdir(path) if not isfile(join(path, f))]\n",
    "    instances = [[f[:-4], join(join(directory, 'komutlar'), f),  open(join(join(directory, 'komutlar'), f[:-3] + 'txt'),  encoding=\"Cp1254\").read()] for directory in commands_dirs_by_readers for f in listdir(join(directory, 'komutlar')) if f.endswith('.mfc')]\n",
    "    data_instances.write('\\n'.join([','.join(instance) for instance in instances]))\n",
    "    data_instances.close()    \n",
    "    return instances    \n",
    "\n",
    "def get_test_set(path):\n",
    "    '''Gets paths of test instances'''\n",
    "    return [[f, join(path,f)]for f in listdir(path) if f.endswith('.mfc')]\n",
    "    "
   ]
  },
  {
   "cell_type": "markdown",
   "metadata": {},
   "source": [
    "Load speech file as np.matrix()"
   ]
  },
  {
   "cell_type": "code",
   "execution_count": 5,
   "metadata": {},
   "outputs": [],
   "source": [
    "def get_mfc_file(path):\n",
    "    '''Loads mfc file as matrix'''\n",
    "    return np.loadtxt(path)"
   ]
  },
  {
   "cell_type": "markdown",
   "metadata": {},
   "source": [
    "Define distance"
   ]
  },
  {
   "cell_type": "code",
   "execution_count": 6,
   "metadata": {},
   "outputs": [],
   "source": [
    "def local_distance(v1, v2, ord=2):\n",
    "    '''Gets local distance between vectors with given order'''\n",
    "    return np.linalg.norm(v1-v2, ord=ord)"
   ]
  },
  {
   "cell_type": "markdown",
   "metadata": {},
   "source": [
    "Calculate dynamic time warping distance between two speech sample with dynamic programming"
   ]
  },
  {
   "cell_type": "code",
   "execution_count": 7,
   "metadata": {},
   "outputs": [],
   "source": [
    "def dtw_distance(template, test):\n",
    "    col = template.shape[0]\n",
    "    row = test.shape[0]\n",
    "    distance = np.zeros((row, col))\n",
    "    for i in range(row):\n",
    "        for j in range(col):\n",
    "            if i == 0 and j == 0:\n",
    "                distance[i,j] = local_distance(template[j], test[i])\n",
    "            elif j == 0:\n",
    "                distance[i,j] = distance[i-1,j] + local_distance(template[j], test[i])\n",
    "            elif i == 0:\n",
    "                distance[i,j] = distance[i,j-1] + local_distance(template[j], test[i])\n",
    "            else:\n",
    "                distance[i,j] = min(distance[i-1,j-1], distance[i,j-1], distance[i-1,j]) + local_distance(template[j], test[i])\n",
    "    return distance[row-1,col-1]"
   ]
  },
  {
   "cell_type": "markdown",
   "metadata": {},
   "source": [
    "Get train and test datasets"
   ]
  },
  {
   "cell_type": "code",
   "execution_count": 8,
   "metadata": {},
   "outputs": [],
   "source": [
    "train_instances = get_train_set(TRAIN_DATA_PATH)\n",
    "test_instances = get_test_set(TEST_DATA_PATH)"
   ]
  },
  {
   "cell_type": "code",
   "execution_count": 9,
   "metadata": {},
   "outputs": [],
   "source": [
    "def find_nearest_neighbor(test, templates):\n",
    "    minD = dtw_distance(get_mfc_file(templates[0][1]), test)\n",
    "    minI = 0\n",
    "    command = templates[0][2] \n",
    "    for i in range(1, len(templates)):\n",
    "        D = dtw_distance(get_mfc_file(templates[i][1]), test)\n",
    "        if D < minD:\n",
    "            minD = D\n",
    "            minI = i\n",
    "            command = templates[i][2]\n",
    "    return minD, minI, command"
   ]
  },
  {
   "cell_type": "code",
   "execution_count": 10,
   "metadata": {},
   "outputs": [],
   "source": [
    "def predict_commands(test_instances, train_instances):\n",
    "    predictions = open(join(TEST_DATA_PATH, 'predictions_l2.txt'), 'w', encoding='Cp1254')\n",
    "    start = time.time()\n",
    "    for test_instance in test_instances:\n",
    "        test = get_mfc_file(test_instance[1])\n",
    "        distance, index, command = find_nearest_neighbor(test, train_instances)\n",
    "        print(test_instance[0], command)\n",
    "        predictions.write(test_instance[0] + ' ' + command + '\\n')\n",
    "    predictions.close()\n",
    "    end = time.time()\n",
    "    print(\"time passed\", end - start)"
   ]
  },
  {
   "cell_type": "code",
   "execution_count": null,
   "metadata": {},
   "outputs": [
    {
     "name": "stdout",
     "output_type": "stream",
     "text": [
      "0001.mfc hafif müzik çal\n",
      "0002.mfc sonraki kanal\n",
      "0003.mfc önceki kitap\n",
      "0004.mfc klasik müzik çal\n",
      "0005.mfc önceki kitap\n",
      "0006.mfc sıcaklığı arttır\n",
      "0007.mfc perdeyi aç\n",
      "0008.mfc sonraki mesaj\n",
      "0009.mfc radyoyu kapa\n",
      "0010.mfc itfaiyeyi ara\n",
      "0011.mfc ışığı arttır\n",
      "0012.mfc klasik müzik çal\n",
      "0013.mfc sonraki randevu\n",
      "0014.mfc ışığı aç\n",
      "0015.mfc caz çal\n",
      "0016.mfc acil yardımı ara\n",
      "0017.mfc ses kayıt başlat\n",
      "0018.mfc ısıtıcıyı aç\n",
      "0019.mfc dur\n",
      "0020.mfc önceki randevu\n",
      "0021.mfc telesekreteri kapa\n"
     ]
    }
   ],
   "source": [
    "predict_commands(test_instances, train_instances)"
   ]
  },
  {
   "cell_type": "code",
   "execution_count": null,
   "metadata": {},
   "outputs": [],
   "source": [
    "#test = get_mfc_file(test_instance_paths[0])\n",
    "start = time.time()\n",
    "test_instance = train_instances[-1]\n",
    "print(test_instance)\n",
    "test = get_mfc_file(test_instance[1])\n",
    "distance, index, command = find_nearest_neighbor(test, train_instances[:-100])\n",
    "print(command)\n",
    "end = time.time()\n",
    "print(\"time passed\", end - start)"
   ]
  },
  {
   "cell_type": "code",
   "execution_count": null,
   "metadata": {},
   "outputs": [],
   "source": [
    "dtw_distance(np.matrix([[1,2,3],[1,2,4],[1,4,6]]),np.matrix([[0,0,0],[1,5,1]]))"
   ]
  }
 ],
 "metadata": {
  "kernelspec": {
   "display_name": "Python 3",
   "language": "python",
   "name": "python3"
  },
  "language_info": {
   "codemirror_mode": {
    "name": "ipython",
    "version": 3
   },
   "file_extension": ".py",
   "mimetype": "text/x-python",
   "name": "python",
   "nbconvert_exporter": "python",
   "pygments_lexer": "ipython3",
   "version": "3.6.5"
  }
 },
 "nbformat": 4,
 "nbformat_minor": 2
}
